{
 "cells": [
  {
   "cell_type": "markdown",
   "metadata": {
    "slideshow": {
     "slide_type": "slide"
    }
   },
   "source": [
    "## IBM Quantum Challenge Fall 2021\n",
    "# Challenge 1: Optimizing your portfolio with quantum computers"
   ]
  },
  {
   "cell_type": "markdown",
   "metadata": {},
   "source": [
    "<div id='problem'></div>\n",
    "<div class=\"alert alert-block alert-info\">\n",
    "    \n",
    "Quantum Challengeに最適な環境で取り組んでいただくために、右上のアカウントメニューより **light** モードを選択されることをお勧めします。"
   ]
  },
  {
   "cell_type": "markdown",
   "metadata": {},
   "source": [
    "## はじめに：ポートフォリオ最適化とは？\n",
    "ポートフォリオの最適化は、投資から得られるリターンを最大化したいと考える人にとって大変重要なプロセスです。\n",
    "投資は通常、いわゆる資産（株式、債権、債券、デリバティブ、コール、プットなど）の集まりであり、この資産の集まりを**ポートフォリオ**と呼びます。\n",
    "<center><img src=\"resources/ex1-01.png\" width=\"270\"></center>\n",
    "ポートフォリオの最適化のゴールは、リスク（金銭的損失）を最小化し、リターン（金銭的利益）を最大化することです。しかし、このプロセスはそう単純ではありません。リスクとリターンは通常トレードオフの関係にあり、これがポートフォリオの最適化を少し複雑にしています。ハリー・マーコウィッツ博士が1952年に発表した『現代ポートフォリオ理論』では、「リスクは、より高い報酬を得るための本質的な要素である」と述べています。"
   ]
  },
  {
   "cell_type": "markdown",
   "metadata": {},
   "source": [
    "<div id='problem'></div>\n",
    "<div class=\"alert alert-block alert-info\">\n",
    "    \n",
    "**現代ポートフォリオ理論** \n",
    "<br>\n",
    "投資家は同じリターンが期待できる2つのポートフォリオを与えられたとき、リスクの少ない方を好むというリスク回避の考え方に基づく投資理論。投資家は、与えられた市場リスクに基づいて、期待リターンを最大化するようにポートフォリオを構築することができ、リスクはより高い報酬の本質的な部分であることを強調している。現代ポートフォリオ理論は、金融・投資に関する最も重要かつ影響力のある経済理論の一つとして、1952年にハリー・マーコウィッツ博士が提唱し、この功績によりマーコウィッツ博士は1990年にノーベル経済学賞を受賞した。<br><br>\n",
    "参照: [**現代ポートフォリオ理論**](https://en.wikipedia.org/wiki/Modern_portfolio_theory)"
   ]
  },
  {
   "cell_type": "markdown",
   "metadata": {},
   "source": [
    "## Challenge\n",
    "\n",
    "<div class=\"alert alert-block alert-success\">\n",
    "\n",
    "**Goal**\n",
    "\n",
    "ポートフォリオの最適化は、投資から得られるリターンを最大化したいと考える人にとって大変重要なプロセスです。この最初のチャレンジでは、ポートフォリオ最適化の基本的な理論と、量子コンピューターで解けるように問題を定式化する方法を学びます。その過程で、QiskitのFinanceアプリケーションクラスをつかって、問題を効率的に解決する方法を学びます。\n",
    "\n",
    "1. **Challenge 1a**: QiskitのFinanceモジュールのPortfolioOptimization()メソッドを使って、ポートフォリオ最適化を二次プログラムに変換する方法を学びます。\n",
    "    \n",
    "2. **Challenge 1b**: Challenge 1aで作成したインスタンスに基づいて、4銘柄のポートフォリオ最適化問題をVQE (Variational Quantum Eigensolver:変分量子固有値ソルバー) をつかって解きます。\n",
    "    \n",
    "    \n",
    "3. **Challenge 1c**: QAOA(Quantum Approximate Optimazation Algorithm:量子近似最適化アルゴリズム)を使って、ポートフォリオがとりうる４つのアセットから、予算=3かつ、ひとつの銘柄につきダブルウェイトまでを選択できる場合の問題を解きます。\n",
    "\n",
    "</div>\n",
    "<div class=\"alert alert-block alert-info\">\n",
    "\n",
    "事前学習として[**Qiskit Finance Demo Session with Julien Gacon**](https://youtu.be/UtMVoGXlz04?t=2022)の視聴と対応する[**demo notebook**](https://github.com/qiskit-community/qiskit-application-modules-demo-sessions/tree/main/qiskit-finance)をチェックして、QiskitのFinanceモジュールとポートフォリオ最適化への応用について学ぶことをお勧めします。\n",
    "\n",
    "</div>"
   ]
  },
  {
   "cell_type": "markdown",
   "metadata": {
    "slideshow": {
     "slide_type": "slide"
    }
   },
   "source": [
    "## 1. 効率的フロンティアを求めて\n",
    "現代ポートフォリオ理論（MPT）は、投資家にとって理想的なポートフォリオを決定するための理論的な枠組みを提供します。同理論は平均分散ポートフォリオ理論とも呼ばれ、投資家が以下のようなポートフォリオの集合から最適なポートフォリオを選択することを想定しています。\n",
    "- 与えられたリスクに対して期待リターンを最大化する。\n",
    "- 与えられたレベルの期待リターンに対して、リスクを最小化する。\n",
    "\n",
    "下図は、横軸がリスク、縦軸が期待リターンを示す、現代ポートフォリオ理論の最小分散フロンティアです。 \n",
    "\n",
    "<center><img src=\"resources/ex1-02.png\" width=\"600\"></center>\n",
    "\n",
    "AとBの2つの銘柄があり、この2つの銘柄のどちらかに投資するという状況を考えてみましょう。あるいは、Aに10％、Bに90％、Aに20％、Bに80％、Aに70％、Bに30％などと投資することもできます。こうした2つの銘柄を考える場合の単純なケース下でもたくさんの投資パターンの組み合わせが考えられます。さらに何千もの銘柄を検討する場合には、膨大な数の組み合わせになります。\n",
    "\n",
    "最小分散フロンティアは、ある想定される期待リターンに対して達成可能な最小分散を示します。あるポートフォリオの最小分散フロンティアを構築するには\n",
    "\n",
    "- 過去のデータを用いて、ポートフォリオの各個別銘柄の平均、分散、および各組の銘柄の相関を推定する。\n",
    "- コンピュータプログラムを使って、事前に設定した期待リターンごとに、ポートフォリオの分散を最小化する全銘柄の重みを求める。\n",
    "- 上記で決定した最小分散ポートフォリオすべてについて、期待リターンと分散を計算し、2つの変数をグラフ化する。\n",
    "\n",
    "このとき、投資家は最小分散点以下のポートフォリオを保有したいとは思わないでしょう。投資家は最小分散フロンティアの正の方向に傾斜した部分に沿って、常に高いリターンを得ることができるため、最小分散フロンティアの正の傾斜部分は、**効率的なフロンティア**と呼ばれています。\n",
    "\n",
    "最適なポートフォリオがどこにあるかを示す**効率的フロンティア**を求めることによって、投資家はよりリターンを期待できそうな様々なポートフォリオはどれかを絞り込むことができます。"
   ]
  },
  {
   "cell_type": "markdown",
   "metadata": {
    "slideshow": {
     "slide_type": "slide"
    }
   },
   "source": [
    "## 2. 演習の目的\n",
    "この演習の目的は、量子的アプローチを用いて、ある特定のリスクに対する効率的フロンティアを見つけることです。QiskitのFinanceアプリケーションモジュールを使用して、ポートフォリオ最適化問題を二次計画問題に変換することで、VQEやQAOAなどの変分量子アルゴリズムを使用して最適化問題を解決していきます。それでは早速、今回のチャレンジ問題を見ていきましょう。"
   ]
  },
  {
   "cell_type": "markdown",
   "metadata": {
    "slideshow": {
     "slide_type": "fragment"
    }
   },
   "source": [
    "## 3. 四銘柄のポートフォリオ最適化問題\n",
    "\n",
    "ここで、4銘柄(e.g. STOCK0, STOCK1, STOCK2, STOCK3) のポートフォリオ最適化問題を考えてみましょう。目標は、リスクとリターン間のトレードオフを最小化する2つの資産の組み合わせを見つけることです。"
   ]
  },
  {
   "cell_type": "markdown",
   "metadata": {
    "slideshow": {
     "slide_type": "slide"
    }
   },
   "source": [
    "## 4. 問題の定式化\n",
    "\n",
    "最適化問題については、検討している問題の定式化から行います。<br>\n",
    "効率的フロンティアを記述する関数は、以下のように線形制約を持つ二次計画問題に定式化することができます。<br>\n",
    "赤色で示されている用語はリスクに関連する項、青色で示されている項はリターンに関連するものです。\n",
    "一般に、最適化したい関数は目的関数と呼ばれ、今回の目的は、このリスクとリターンのトレードオフを最小化することです。<br> <br>\n",
    "\n",
    "<div align=\"center\"> <font size=5em >$\\min_{x \\in \\{0, 1\\}^n}: $</font> <font color='red', size=5em >$q x^n\\Sigma x$</font> - <font color='blue', size=5em>$\\mu^n x$</font> </div>\n",
    "\n",
    "<div align=\"center\"> <font size=5em >$subject$</font> <font size=5em >$to: 1^n x = B$</font> </div>\n",
    "\n",
    "\n",
    "- <font size=4em >$x$</font> は資産配分を示す。\n",
    "- <font size=4em >$Σ$</font> (sigma) は、共分散行列です。\n",
    "共分散行列は、2つの資産価格の値動きが互いにどのように相関しているかを統計的に示す指標で、金融工学で広く応用されています。共分散が高いということは、株価の値動きが激しく、ボラティリティーが高いことを意味します。そのため、この指数は、全体のリスクを減らすためにどのような資産をポートフォリオに含めるべきかを判断するのに役立ちます。\n",
    "- <font size=4em >$q$</font> iはリスクファクター（リスク許容度）と呼ばれ、個人のリスクを取る意思や能力を評価したものです。\n",
    "例えば、自動化されたファイナンシャル・アドバイジング・サービス、いわゆるロボ・アドバイジングを利用する際には、通常、異なるリスク許容度が表示されます。このq値はそのようなものと同じで、0から1の間の値をとります。\n",
    "- <font size=4em >$𝝁$</font> (mu) は期待リターンで、当然ながら最大化を目指します。\n",
    "- <font size=4em >$n$</font> は選択可能なアセットの数です。\n",
    "- <font size=4em >$B$</font> はBudget（予算）の略ですが、ここでいう「予算」とは、ポートフォリオに割り当てることのできる資産の数を意味します。\n",
    "\n",
    "#### ゴール:\n",
    "ゴールは**x**値を見つけることです。ここでいうx値とは、どの資産を選ぶか（𝑥[𝑖]=1）、どの資産を選ばないか（𝑥[𝑖]=0）を示すものです。\n",
    "\n",
    "\n",
    "#### 仮定:\n",
    "この演習では、簡単のために以下を仮定しています。\n",
    "- すべての資産の価格は同じである（1に正規化）。\n",
    "- 予算$B$をすべて使わなければならない、つまり、正確に$B$個の資産を選択しなければならない。\n",
    "- 等式制約 $1^n x = B$ はペナルティ項 $(1^n x - B)^2$ にマッピングされ、このペナルティ項はパラメータでスケーリングされ、目的関数から減算される。\n",
    "\n"
   ]
  },
  {
   "cell_type": "markdown",
   "metadata": {
    "slideshow": {
     "slide_type": "slide"
    }
   },
   "source": [
    "## Step 1. 必要なライブラリをインポートします。"
   ]
  },
  {
   "cell_type": "code",
   "execution_count": 2,
   "metadata": {
    "ExecuteTime": {
     "end_time": "2020-07-13T20:35:05.710593Z",
     "start_time": "2020-07-13T20:34:57.647535Z"
    },
    "slideshow": {
     "slide_type": "fragment"
    }
   },
   "outputs": [
    {
     "name": "stderr",
     "output_type": "stream",
     "text": [
      "Matplotlib is building the font cache; this may take a moment.\n"
     ]
    }
   ],
   "source": [
    "#Let us begin by importing necessary libraries.\n",
    "from qiskit import Aer\n",
    "from qiskit.algorithms import VQE, QAOA, NumPyMinimumEigensolver\n",
    "from qiskit.algorithms.optimizers import *\n",
    "from qiskit.circuit.library import TwoLocal\n",
    "from qiskit.utils import QuantumInstance\n",
    "from qiskit.utils import algorithm_globals\n",
    "from qiskit_finance import QiskitFinanceError\n",
    "from qiskit_finance.applications.optimization import PortfolioOptimization\n",
    "from qiskit_finance.data_providers import *\n",
    "from qiskit_optimization.algorithms import MinimumEigenOptimizer \n",
    "from qiskit_optimization.applications import OptimizationApplication\n",
    "from qiskit_optimization.converters import QuadraticProgramToQubo\n",
    "import numpy as np\n",
    "import matplotlib.pyplot as plt\n",
    "%matplotlib inline\n",
    "import datetime\n",
    "import warnings\n",
    "from sympy.utilities.exceptions import SymPyDeprecationWarning\n",
    "warnings.simplefilter(\"ignore\", SymPyDeprecationWarning)"
   ]
  },
  {
   "cell_type": "markdown",
   "metadata": {
    "slideshow": {
     "slide_type": "slide"
    }
   },
   "source": [
    "## Step 2. 時系列データ（金融データ）の生成\n",
    "まず、全銘柄数n=4のランダムな時系列金融データを生成してみましょう。これにはRandomDataProviderを使います。ここではある4銘柄について、過去にさかのぼって、1955年11月5日から1985年10月26日までの金融データを取得しています。"
   ]
  },
  {
   "cell_type": "code",
   "execution_count": 3,
   "metadata": {
    "ExecuteTime": {
     "end_time": "2020-07-13T20:35:15.224327Z",
     "start_time": "2020-07-13T20:35:15.213892Z"
    },
    "slideshow": {
     "slide_type": "fragment"
    }
   },
   "outputs": [],
   "source": [
    "# Set parameters for assets and risk factor\n",
    "num_assets = 4     # set number of assets to 4\n",
    "q = 0.5                   # set risk factor to 0.5\n",
    "budget = 2           # set budget as defined in the problem\n",
    "seed = 132     #set random seed\n",
    "\n",
    "# Generate time series data\n",
    "stocks = [(\"STOCK%s\" % i) for i in range(num_assets)]\n",
    "data = RandomDataProvider(tickers=stocks,\n",
    "                 start=datetime.datetime(1955,11,5),   \n",
    "                 end=datetime.datetime(1985,10,26),  \n",
    "                 seed=seed)\n",
    "data.run()"
   ]
  },
  {
   "cell_type": "code",
   "execution_count": 4,
   "metadata": {
    "slideshow": {
     "slide_type": "slide"
    }
   },
   "outputs": [
    {
     "data": {
      "image/png": "[encoded data removed]",
      "text/plain": [
       "<Figure size 432x288 with 1 Axes>"
      ]
     },
     "metadata": {
      "needs_background": "light"
     },
     "output_type": "display_data"
    }
   ],
   "source": [
    "# Let's plot our finanical data\n",
    "for (cnt, s) in enumerate(data._tickers):\n",
    "    plt.plot(data._data[cnt], label=s)\n",
    "plt.legend()\n",
    "plt.xticks(rotation=90)\n",
    "plt.xlabel('days')\n",
    "plt.ylabel('stock value')\n",
    "plt.show()"
   ]
  },
  {
   "cell_type": "markdown",
   "metadata": {
    "slideshow": {
     "slide_type": "slide"
    }
   },
   "source": [
    "<div id='problem'></div>\n",
    "<div class=\"alert alert-block alert-danger\">\n",
    "    \n",
    "**注意**： このチャレンジノートブック中のRandomDataProvider にセットされた開始日と終了日は変更しないでください。変更した場合、提出された回答は正しく評価されません。\n",
    "</div>"
   ]
  },
  {
   "cell_type": "markdown",
   "metadata": {
    "slideshow": {
     "slide_type": "slide"
    }
   },
   "source": [
    "## Step 3. 期待リターンと共分散行列の取得\n",
    "\n",
    "まず、期待リターンと共分散行列を計算しましょう。"
   ]
  },
  {
   "cell_type": "markdown",
   "metadata": {
    "slideshow": {
     "slide_type": "fragment"
    }
   },
   "source": [
    "## 期待リターン μ\n",
    "ポートフォリオの期待リターンとは、ポートフォリオが生み出す可能性のあるリターンの予想値であり、ポートフォリオの可能なリターン分布の平均（平均値）となります。\n",
    "例えば、銘柄A、B、Cがそれぞれ50％、20％、30％の割合でポートフォリオに組み込まれていたとします。 各銘柄の期待リターンがそれぞれ15％、6％、9％だった場合、ポートフォリオの期待リターンの計算式は以下のようになります。<br>\n",
    "\n",
    "\n",
    "<div align=\"center\"> μ = (50% x 15%) + (20% x 6%) + (30% x 9%) = 11.4% </div>\n",
    "\n",
    "\n",
    "QiskitのRandomDataProviderが提供する以下の`get_period_return_mean_vector()`メソッドを使用することで、先ほど生成した時系列データについて、期待リターンを計算することができます。"
   ]
  },
  {
   "cell_type": "code",
   "execution_count": 5,
   "metadata": {
    "slideshow": {
     "slide_type": "fragment"
    }
   },
   "outputs": [
    {
     "name": "stdout",
     "output_type": "stream",
     "text": [
      "[1.59702144e-04 4.76518943e-04 2.39123234e-04 9.85029012e-05]\n"
     ]
    }
   ],
   "source": [
    "#Let's calculate the expected return for our problem data\n",
    "\n",
    "mu = data.get_period_return_mean_vector()   # Returns a vector containing the mean value of each asset's expected return.\n",
    "\n",
    "print(mu)"
   ]
  },
  {
   "cell_type": "markdown",
   "metadata": {
    "slideshow": {
     "slide_type": "slide"
    }
   },
   "source": [
    "### 共分散行列 Σ\n",
    "共分散Σは、2つの資産の平均リターンが互いにどのように変化するかを示す統計的な尺度で、投資ポートフォリオの観点からリスクの大きさを理解し、株式の売買を決定するのに役立ちます。\n",
    "\n",
    "自分のポートフォリオにn個の銘柄がある場合、共分散行列の大きさはn×nとなります。\n",
    "今回の4銘柄のポートフォリオの共分散行列をプロットすると、4×4の行列になります。"
   ]
  },
  {
   "cell_type": "code",
   "execution_count": 7,
   "metadata": {
    "slideshow": {
     "slide_type": "subslide"
    }
   },
   "outputs": [
    {
     "name": "stdout",
     "output_type": "stream",
     "text": [
      "[[ 4.88319903e-05 -1.07868619e-06 -2.12961489e-06  7.06600109e-07]\n",
      " [-1.07868619e-06  9.97360142e-04  3.51594354e-06  3.68715793e-07]\n",
      " [-2.12961489e-06  3.51594354e-06  2.87365468e-04  3.20819120e-06]\n",
      " [ 7.06600109e-07  3.68715793e-07  3.20819120e-06  1.92316728e-04]]\n"
     ]
    },
    {
     "data": {
      "image/png": "[encoded data removed]",
      "text/plain": [
       "<Figure size 432x288 with 2 Axes>"
      ]
     },
     "metadata": {
      "needs_background": "light"
     },
     "output_type": "display_data"
    }
   ],
   "source": [
    "# Let's plot our covariance matrix Σ（sigma）\n",
    "sigma = data.get_period_return_covariance_matrix() #Returns the covariance matrix of the four assets\n",
    "print(sigma)\n",
    "\n",
    "fig, ax = plt.subplots(1,1)\n",
    "im = plt.imshow(sigma, extent=[-1,1,-1,1])\n",
    "x_label_list = ['stock3', 'stock2', 'stock1', 'stock0']\n",
    "y_label_list = ['stock3', 'stock2', 'stock1', 'stock0']\n",
    "ax.set_xticks([-0.75,-0.25,0.25,0.75])\n",
    "ax.set_yticks([0.75,0.25,-0.25,-0.75])\n",
    "ax.set_xticklabels(x_label_list)\n",
    "ax.set_yticklabels(y_label_list)\n",
    "plt.colorbar()\n",
    "plt.clim(-0.000002, 0.00001)\n",
    "plt.show()"
   ]
  },
  {
   "cell_type": "markdown",
   "metadata": {
    "slideshow": {
     "slide_type": "subslide"
    }
   },
   "source": [
    "左から右への対角成分（下図の黄色で示された値）は、ある銘柄の「自身」との関係を示しています。また、非対角線上の値は、各銘柄の平均期待収益率の互いの偏差を示しています。 共分散行列の簡単な見方は次の通りです。\n",
    "\n",
    " - 2つの銘柄が同時に増加・減少すれば、共分散の値は正の値になります。\n",
    " - 一方が上昇し、他方が下降した場合、共分散の値は負になります。\n",
    "\n",
    "<center><img src= \"resources/ex1-05.png\" width=\"370\"></center>\n",
    "\n",
    "\"Don't Put All Your Eggs in One Basket （卵は一つのカゴに盛るな）\"という言葉を聞いたことがあるかもしれません。常に同じ方向に動くものに投資していると、同時にすべての資金を失うリスクがあります。共分散行列は、そのようなリスクを減らすために、投資家が資産を分散させるのに役立つ指標です。"
   ]
  },
  {
   "cell_type": "markdown",
   "metadata": {
    "slideshow": {
     "slide_type": "slide"
    }
   },
   "source": [
    "これで、最適化のためのポートフォリオを構築するために必要なすべての値が揃ったので、ポートフォリオを二次計画問題に定式化し、最適化問題に落とし込んでくれるのを手助けしてくれるQiskit Financeのアプリケーションクラスをみていきましょう。"
   ]
  },
  {
   "cell_type": "markdown",
   "metadata": {
    "slideshow": {
     "slide_type": "slide"
    }
   },
   "source": [
    "### Qiskit Finance のポートフォリオ最適化クラス\n",
    "\n",
    "ステップ2からステップ4までのなかで計算したポートフォリオを特徴づける値を入力としえ、[`PortfolioOptimization(ポートフォリオ最適化クラス)`](https://qiskit.org/documentation/finance/stubs/qiskit_finance.applications.PortfolioOptimization.html#qiskit_finance.applications.PortfolioOptimization) をつかってポートフォリオ・インスタンスをつくります。\n",
    "\n",
    "PortfolioOptimization クラスは以下 **５つの引数** をとり、そのインスタンスを二次計画問題に変換する準備を行います。\n",
    "- expected_returns\n",
    "- covariances\n",
    "- risk_factor\n",
    "- budget\n",
    "- bounds\n",
    "\n",
    "ポートフォリオのインスタンスが二次計画問題に変換されれば、変分量子固有値ソルバー（VQE）や量子近似最適化アルゴリズム（QAOA）などの量子変分法を用いて、問題の最適解を求めることができます。<br>\n",
    "\n",
    "ポートフォリオの資産選択の変数がバイナリ変数の場合、「bounds = None」と設定してください。\n",
    "\n",
    "すでにステップ3で期待リターンと共分散を得ており、リスクファクターとバジェットも事前に定義されています。それでは、 [`PortfolioOptimization`](https://qiskit.org/documentation/finance/stubs/qiskit_finance.applications.PortfolioOptimization.html#qiskit_finance.applications.PortfolioOptimization) クラスを使って、ポートフォリオを構築してみましょう。"
   ]
  },
  {
   "cell_type": "markdown",
   "metadata": {
    "slideshow": {
     "slide_type": "slide"
    }
   },
   "source": [
    "## Challenge 1a: PortfolioOptimizationクラスを使用したポートフォリオインスタンスの作成\n",
    "<div id='u-definition'></div>\n",
    "<div class=\"alert alert-block alert-success\">\n",
    "\n",
    "**Challenge 1a** <br>\n",
    "[PortfolioOptimization](https://qiskit.org/documentation/finance/stubs/qiskit_finance.applications.PortfolioOptimization.html#qiskit_finance.applications.PortfolioOptimization) クラスを使って、ポートフォリオのインスタンスを生成するコードを完成させてください。**5つの引数**に前ステップで取得した値を代入し、インスタンスを二次計画問題 **qp** に変換してください。\n",
    "</div>"
   ]
  },
  {
   "cell_type": "code",
   "execution_count": 8,
   "metadata": {
    "ExecuteTime": {
     "end_time": "2020-07-13T20:35:15.231767Z",
     "start_time": "2020-07-13T20:35:15.226490Z"
    },
    "slideshow": {
     "slide_type": "fragment"
    }
   },
   "outputs": [
    {
     "name": "stdout",
     "output_type": "stream",
     "text": [
      "\\ This file has been generated by DOcplex\n",
      "\\ ENCODING=ISO-8859-1\n",
      "\\Problem name: Portfolio optimization\n",
      "\n",
      "Minimize\n",
      " obj: - 0.000159702144 x_0 - 0.000476518943 x_1 - 0.000239123234 x_2\n",
      "      - 0.000098502901 x_3 + [ 0.000048831990 x_0^2 - 0.000002157372 x_0*x_1\n",
      "      - 0.000004259230 x_0*x_2 + 0.000001413200 x_0*x_3 + 0.000997360142 x_1^2\n",
      "      + 0.000007031887 x_1*x_2 + 0.000000737432 x_1*x_3 + 0.000287365468 x_2^2\n",
      "      + 0.000006416382 x_2*x_3 + 0.000192316728 x_3^2 ]/2\n",
      "Subject To\n",
      " c0: x_0 + x_1 + x_2 + x_3 = 2\n",
      "\n",
      "Bounds\n",
      " 0 <= x_0 <= 1\n",
      " 0 <= x_1 <= 1\n",
      " 0 <= x_2 <= 1\n",
      " 0 <= x_3 <= 1\n",
      "\n",
      "Binaries\n",
      " x_0 x_1 x_2 x_3\n",
      "End\n",
      "\n"
     ]
    }
   ],
   "source": [
    "##############################\n",
    "# 以下にコードを入力\n",
    "\n",
    "portfolio = PortfolioOptimization(expected_returns=mu, covariances=sigma, risk_factor=q, budget=budget, bounds=None)\n",
    "qp = portfolio.to_quadratic_program()\n",
    "\n",
    "##############################\n",
    "print(qp)"
   ]
  },
  {
   "cell_type": "markdown",
   "metadata": {},
   "source": [
    "If you were able to successfully generate the code, you should see a standard representation of the formulation of our qudratic program. "
   ]
  },
  {
   "cell_type": "code",
   "execution_count": null,
   "metadata": {},
   "outputs": [
    {
     "name": "stdout",
     "output_type": "stream",
     "text": [
      "Submitting your answer for 1a. Please wait...\n",
      "Congratulations 🎉! Your answer is correct and has been submitted.\n"
     ]
    }
   ],
   "source": [
    "# 答えを確認して以下のコードで提出します\n",
    "from qc_grader import grade_ex1a\n",
    "grade_ex1a(qp)"
   ]
  },
  {
   "cell_type": "markdown",
   "metadata": {},
   "source": [
    "## Minimum Eigen Optimizer（最小固有値オプティマイザー）\n",
    "\n",
    "興味深いことに、このポートフォリオ最適化問題は、ハミルトニアンの基底状態を求める問題として解くことができます。ハミルトニアンとは、シミュレーションしたい物理系の全エネルギーを表すエネルギー関数と考えることができます。この物理系は、さらに [**イジングモデル**](https://en.wikipedia.org/wiki/Ising_model) と呼ばれる数学モデルで表現することができます。この数学モデルは、バイナリ変数をスピンアップ(+1)またはスピンダウン(-1)と呼ばれる状態に変換するためのフレームワークを提供します。\n",
    "    \n",
    "最適化アルゴリズムを適用する際には、通常、適性なフォーマットに変換して適用可能な状態にする必要があります。今回適用するVQEやQAOAのような変分量子アルゴリズムは[**二次非制約二次最適化(QUBO)**](https://en.wikipedia.org/wiki/Quadratic_unconstrained_binary_optimization)問題に適用するため, Qiskitは自動的に適切なフォーマットにマッピングするコンバータを提供します。\n",
    "\n",
    "<center><img src= \"resources/ex1-04.png\" width=\"700\"></center>\n",
    "\n",
    "QUBOを解くことは、ハミルトニアンの基底状態を求めることに相当します。Minimum Eigen Optimizer（最小固有値オプティマイザー）は、二次プログラムをハミルトニアンに変換し、VQEやQAOAなどの所定の最小固有値ソルバーを呼び出して基底状態を計算し、最適化の結果を返します。\n",
    "    \n",
    "このアプローチにより、最適化問題を解く際に基底状態の計算を利用することができます。次のステップの課題でこの手続きを実装してみましょう。"
   ]
  },
  {
   "cell_type": "markdown",
   "metadata": {},
   "source": [
    "## Step 5. 古典的なオプティマイザーで参考値を取得\n",
    "\n",
    "参考値として、今回の最適化問題解の理論値をさNumPyMinimumEigensolverを使ってまずは取得します。問題は「ising」に設定しています。量子計算ではなく古典的に計算されるので、バックエンドは必要ありません。結果はdictionary型として返されます。"
   ]
  },
  {
   "cell_type": "code",
   "execution_count": 16,
   "metadata": {
    "ExecuteTime": {
     "end_time": "2020-07-13T20:35:15.264319Z",
     "start_time": "2020-07-13T20:35:15.245811Z"
    }
   },
   "outputs": [
    {
     "name": "stdout",
     "output_type": "stream",
     "text": [
      "optimal function value: -0.00023285626449450194\n",
      "optimal value: [1. 0. 1. 0.]\n",
      "status: SUCCESS\n"
     ]
    }
   ],
   "source": [
    "exact_mes = NumPyMinimumEigensolver()\n",
    "exact_eigensolver = MinimumEigenOptimizer(exact_mes)\n",
    "result = exact_eigensolver.solve(qp)\n",
    "\n",
    "print(result)"
   ]
  },
  {
   "cell_type": "markdown",
   "metadata": {},
   "source": [
    "<div id='problem'></div>\n",
    "<div class=\"alert alert-block alert-info\">\n",
    "    \n",
    "**注:** ここで表示されるOptimal Valueとは、どの銘柄が選択されたかを示しています。例えばOptimal Value [1. 1. 0. 0.] は STOCK2とSTOCK3が選択されたポートフォリオを意味します。\n",
    "    \n",
    "</div>"
   ]
  },
  {
   "cell_type": "markdown",
   "metadata": {},
   "source": [
    "## Challenge1b: VQEをつかったソリューション\n",
    "\n",
    "**Variational Quantum Eigensolver (VQE)**は、古典と量子のハイブリッドアルゴリズムであり、 [**Hamiltonian**](https://en.wikipedia.org/wiki/Hamiltonian_(quantum_mechanics))の基底エネルギー(最も低いエネルギー状態)を効率的に計算するために、処理負荷の一部を古典計算機に託します。 先ほど説明したように、二次プログラムを[**VQE**](https://qiskit.org/documentation/stubs/qiskit.algorithms.VQE.html) で解く基底状態エネルギーの探索問題として再構築することができます。この課題では、VQEを用いて最適解を求めます。  <br> \n",
    "\n",
    "\n",
    "<div id='u-definition'></div>\n",
    "<div class=\"alert alert-block alert-success\">\n",
    "\n",
    "**Challenge 1b** <br>\n",
    "Variational Quantum Eigensolver(VQE)を使って同じ最適解を求めます。以下に使用するオプティマイザー(optimizer)と変分形式を指定します。\n",
    "</div>\n",
    "\n",
    "<div id='problem'></div>\n",
    "<div class=\"alert alert-block alert-info\">\n",
    "\n",
    "**ヒント**: 行き詰まったら、Qiskitの[**ポートフォリオ最適化のチュートリアル**](https://qiskit.org/documentation/finance/tutorials/01_portfolio_optimization.html)を参考に問題設定に応じて適宜コードを調整してください。\n",
    "    \n",
    "</div>\n",
    "\n",
    "以下にとりかかりのためのコードを提供します。######で区切られた箇所にご自身のコードを入力ください。"
   ]
  },
  {
   "cell_type": "code",
   "execution_count": 20,
   "metadata": {
    "ExecuteTime": {
     "end_time": "2020-07-13T20:35:28.570970Z",
     "start_time": "2020-07-13T20:35:26.539093Z"
    },
    "scrolled": true
   },
   "outputs": [
    {
     "name": "stdout",
     "output_type": "stream",
     "text": [
      "optimal function value: -0.00023285626449450194\n",
      "optimal value: [1. 0. 1. 0.]\n",
      "status: SUCCESS\n"
     ]
    }
   ],
   "source": [
    "optimizer = SLSQP(maxiter=1000)  \n",
    "algorithm_globals.random_seed = 1234\n",
    "backend = Aer.get_backend('statevector_simulator')\n",
    "\n",
    "\n",
    "##############################\n",
    "# Provide your code here\n",
    "\n",
    "ry = TwoLocal(num_assets, 'ry', 'cz', reps=3, entanglement='full')\n",
    "quantum_instance = QuantumInstance(backend=backend, seed_simulator=seed, seed_transpiler=seed)\n",
    "\n",
    "vqe = VQE(ry, optimizer=optimizer, quantum_instance=quantum_instance)\n",
    "\n",
    "\n",
    "##############################\n",
    "\n",
    "vqe_meo = MinimumEigenOptimizer(vqe)  #please do not change this code\n",
    "\n",
    "result = vqe_meo.solve(qp)  #please do not change this code\n",
    "\n",
    "print(result)    #please do not change this code"
   ]
  },
  {
   "cell_type": "code",
   "execution_count": 19,
   "metadata": {},
   "outputs": [
    {
     "name": "stdout",
     "output_type": "stream",
     "text": [
      "Submitting your answer for 1b. Please wait...\n",
      "Congratulations 🎉! Your answer is correct and has been submitted.\n"
     ]
    }
   ],
   "source": [
    "# 答えを確認して以下のコードで提出します\n",
    "from qc_grader import grade_ex1b\n",
    "grade_ex1b(vqe, qp)"
   ]
  },
  {
   "cell_type": "markdown",
   "metadata": {},
   "source": [
    "古典のオプティマイザーから得られた基準解と同じ最適解がVQEでも求まるはずです。"
   ]
  },
  {
   "cell_type": "markdown",
   "metadata": {},
   "source": [
    "## Challenge 1c: B=3, n=4 銘柄のポートフォリオ最適化問題\n",
    "\n",
    "このチャレンジ演習では、同じ問題を、今度はB=3で、1つの銘柄を２つ保有できる場合を考えていきます。(例えば、STOCK3を2つ保有、STOCK2を1つ保有した場合のポートフォリオは[2, 1, 0, 0]となります。また、STOCK0、STOCK1、STOCK02をそれぞれ、１株ずつ保有した場合、ポートフォリオは[0, 1, 1, 1]となります。) <br>\n",
    "この新しい制約条件を用いて、リスクとリターンのトレードオフを最小化する最適なポートフォリオを求めてください。\n",
    "\n",
    "<div id='u-definition'></div>\n",
    "<div class=\"alert alert-block alert-success\">\n",
    "\n",
    "**チャレンジ 1c:** <br>\n",
    "PortfolioOptimization クラスを使用して、ポートフォリオのインスタンスを生成するコードを完成させます。<br>。\n",
    "予算=3の場合、1つの資産に2倍のウェイトを割り当てることができる最適なポートフォリオを見つけてください。<br>。\n",
    "最後にQAOAを使って最適解を見つけ、答えを提出してください。\n",
    "    \n",
    "</div>\n",
    "\n",
    "<div id='problem'></div>\n",
    "<div class=\"alert alert-block alert-info\">\n",
    "    \n",
    "**ヒント:**  STOCK0, STOCK1, STOCK2, STOCK3のどれでも、ポートフォリオの中で2倍のウェイトを持つことができるケースです。整数変数に対応するためには、どのようにコードを変更すればよいでしょうか。 <br>\n",
    "</div>"
   ]
  },
  {
   "cell_type": "markdown",
   "metadata": {},
   "source": [
    "## Step 1: 必要なライブラリをインポートします。"
   ]
  },
  {
   "cell_type": "code",
   "execution_count": 34,
   "metadata": {},
   "outputs": [],
   "source": [
    "#Step 1: Let us begin by importing necessary libraries\n",
    "import qiskit\n",
    "from qiskit import Aer\n",
    "from qiskit.algorithms import VQE, QAOA, NumPyMinimumEigensolver\n",
    "from qiskit.algorithms.optimizers import *\n",
    "from qiskit.circuit.library import TwoLocal\n",
    "from qiskit.utils import QuantumInstance\n",
    "from qiskit.utils import algorithm_globals\n",
    "from qiskit_finance import QiskitFinanceError\n",
    "from qiskit_finance.applications.optimization import *\n",
    "from qiskit_finance.data_providers import *\n",
    "from qiskit_optimization.algorithms import MinimumEigenOptimizer\n",
    "from qiskit_optimization.applications import OptimizationApplication\n",
    "from qiskit_optimization.converters import QuadraticProgramToQubo\n",
    "import numpy as np\n",
    "import matplotlib.pyplot as plt\n",
    "%matplotlib inline\n",
    "import datetime\n",
    "import warnings\n",
    "from sympy.utilities.exceptions import SymPyDeprecationWarning\n",
    "warnings.simplefilter(\"ignore\",SymPyDeprecationWarning)"
   ]
  },
  {
   "cell_type": "markdown",
   "metadata": {},
   "source": [
    "以下にとりかかりのためのコードを提供します。######で区切られた箇所にご自身のコードを入力ください。"
   ]
  },
  {
   "cell_type": "markdown",
   "metadata": {},
   "source": [
    "## Step 2: 時系列データ（金融データ）の生成"
   ]
  },
  {
   "cell_type": "code",
   "execution_count": 35,
   "metadata": {},
   "outputs": [],
   "source": [
    "# Step 2. Generate time series data for four assets. \n",
    "# Do not change start/end dates specified to generate problem data.\n",
    "seed = 132 \n",
    "num_assets = 4\n",
    "stocks = [(\"STOCK%s\" % i) for i in range(num_assets)]\n",
    "data = RandomDataProvider(tickers=stocks,\n",
    "                 start=datetime.datetime(1955,11,5),   \n",
    "                 end=datetime.datetime(1985,10,26),  \n",
    "                 seed=seed)\n",
    "data.run()"
   ]
  },
  {
   "cell_type": "code",
   "execution_count": 36,
   "metadata": {},
   "outputs": [
    {
     "data": {
      "image/png": "[encoded data removed]",
      "text/plain": [
       "<Figure size 432x288 with 1 Axes>"
      ]
     },
     "metadata": {
      "needs_background": "light"
     },
     "output_type": "display_data"
    }
   ],
   "source": [
    "# Let's plot our finanical data (We are generating the same time series data as in the previous example.)\n",
    "for (cnt, s) in enumerate(data._tickers):\n",
    "    plt.plot(data._data[cnt], label=s)\n",
    "plt.legend()\n",
    "plt.xticks(rotation=90)\n",
    "plt.xlabel('days')\n",
    "plt.ylabel('stock value')\n",
    "plt.show()"
   ]
  },
  {
   "cell_type": "markdown",
   "metadata": {},
   "source": [
    "## Step 3: 期待リターンと共分散行列の取得"
   ]
  },
  {
   "cell_type": "code",
   "execution_count": 37,
   "metadata": {},
   "outputs": [
    {
     "name": "stdout",
     "output_type": "stream",
     "text": [
      "[1.59702144e-04 4.76518943e-04 2.39123234e-04 9.85029012e-05] [[ 4.88319903e-05 -1.07868619e-06 -2.12961489e-06  7.06600109e-07]\n",
      " [-1.07868619e-06  9.97360142e-04  3.51594354e-06  3.68715793e-07]\n",
      " [-2.12961489e-06  3.51594354e-06  2.87365468e-04  3.20819120e-06]\n",
      " [ 7.06600109e-07  3.68715793e-07  3.20819120e-06  1.92316728e-04]]\n"
     ]
    }
   ],
   "source": [
    "# Step 3. Calculate mu and sigma for this problem\n",
    "\n",
    "mu2 = data.get_period_return_mean_vector()   #Returns a vector containing the mean value of each asset.\n",
    "sigma2 = data.get_period_return_covariance_matrix() #Returns the covariance matrix associated with the assets.\n",
    "print(mu2, sigma2)"
   ]
  },
  {
   "cell_type": "markdown",
   "metadata": {},
   "source": [
    "## Step 4: チャレンジ1cの問題設定に基づく変数設定を行ってください。"
   ]
  },
  {
   "cell_type": "code",
   "execution_count": 53,
   "metadata": {},
   "outputs": [],
   "source": [
    "# Step 4. Set parameters and constraints based on this challenge 1c\n",
    "\n",
    "##############################\n",
    "# Provide your code here\n",
    "\n",
    "q2 = 0.5     #Set risk factor to 0.5\n",
    "budget2 = 3     #Set budget to 3\n",
    "\n",
    "##############################"
   ]
  },
  {
   "cell_type": "markdown",
   "metadata": {},
   "source": [
    "## Step 5: ポートフォリオ・インスタンスを生成するコードを完成させてください。"
   ]
  },
  {
   "cell_type": "code",
   "execution_count": 59,
   "metadata": {},
   "outputs": [
    {
     "name": "stdout",
     "output_type": "stream",
     "text": [
      "\\ This file has been generated by DOcplex\n",
      "\\ ENCODING=ISO-8859-1\n",
      "\\Problem name: Portfolio optimization\n",
      "\n",
      "Minimize\n",
      " obj: - 0.000159702144 x_0 - 0.000476518943 x_1 - 0.000239123234 x_2\n",
      "      - 0.000098502901 x_3 + [ 0.000048831990 x_0^2 - 0.000002157372 x_0*x_1\n",
      "      - 0.000004259230 x_0*x_2 + 0.000001413200 x_0*x_3 + 0.000997360142 x_1^2\n",
      "      + 0.000007031887 x_1*x_2 + 0.000000737432 x_1*x_3 + 0.000287365468 x_2^2\n",
      "      + 0.000006416382 x_2*x_3 + 0.000192316728 x_3^2 ]/2\n",
      "Subject To\n",
      " c0: x_0 + x_1 + x_2 + x_3 = 3\n",
      "\n",
      "Bounds\n",
      "       x_0 <= 2\n",
      "       x_1 <= 2\n",
      "       x_2 <= 2\n",
      "       x_3 <= 2\n",
      "\n",
      "Generals\n",
      " x_0 x_1 x_2 x_3\n",
      "End\n",
      "\n"
     ]
    }
   ],
   "source": [
    "# Step 5. Complete code to generate the portfolio instance\n",
    "\n",
    "\n",
    "##############################\n",
    "# Provide your code here\n",
    "\n",
    "bounds = [(0,2) for i in range(num_assets)]\n",
    "portfolio2 = PortfolioOptimization(expected_returns=mu2, covariances=sigma2, risk_factor=q2, budget=budget2, bounds=bounds)\n",
    "qp2 = portfolio2.to_quadratic_program()\n",
    "print(qp2)\n",
    "\n",
    "##############################"
   ]
  },
  {
   "cell_type": "markdown",
   "metadata": {},
   "source": [
    "## Step 6: QAOAをつかったソリューション\n",
    "\n",
    "**Quantum Approximate Optimization Algorithm(QAOA)** は、もう一つの変分量子アルゴリズムで、小中規模のノイズ有の量子デバイス上での組合せ最適化問題を解くのに応用されています。このアルゴリズムはハミルトニアンの基底状態を求めるのにも使われており、Qiskitの[**QAOA**](https://qiskit.org/documentation/stubs/qiskit.algorithms.QAOA.html) アプリケーションをつかって簡単に実装することができます。（QAOAについては第4回の課題でより詳しい解説が予定されています。この演習ではまず、Qiskitを使ったQAOAの基本的な実装に焦点を当てています)。"
   ]
  },
  {
   "cell_type": "code",
   "execution_count": 60,
   "metadata": {},
   "outputs": [
    {
     "name": "stdout",
     "output_type": "stream",
     "text": [
      "Optimal: selection [2. 0. 1. 0.], value -0.0003\n",
      "\n",
      "----------------- Full result ---------------------\n",
      "selection\tvalue\t\tprobability\n",
      "---------------------------------------------------\n",
      " [0 0 0 1]\t1.0017\t\t0.0150\n",
      " [1 0 0 1]\t-0.0001\t\t0.0150\n",
      " [0 1 1 1]\t1.0017\t\t0.0150\n",
      " [1 0 1 1]\t1.0015\t\t0.0150\n",
      " [0 1 1 1]\t1.0017\t\t0.0150\n",
      " [1 1 0 1]\t1.0016\t\t0.0150\n",
      " [0 1 1 1]\t1.0017\t\t0.0149\n",
      " [1 1 0 1]\t1.0016\t\t0.0149\n",
      " [0 0 1 1]\t-0.0001\t\t0.0149\n",
      " [0 0 1 1]\t-0.0001\t\t0.0149\n",
      " [1 0 1 1]\t1.0015\t\t0.0149\n",
      " [0 1 1 1]\t1.0017\t\t0.0149\n",
      " [0 0 1 1]\t-0.0001\t\t0.0149\n",
      " [0 0 1 1]\t-0.0001\t\t0.0149\n",
      " [0 0 1 1]\t-0.0001\t\t0.0149\n",
      " [0 0 1 1]\t-0.0001\t\t0.0149\n",
      " [1 0 1 1]\t1.0015\t\t0.0149\n",
      " [0 1 1 1]\t1.0017\t\t0.0149\n",
      " [0 0 0 1]\t1.0017\t\t0.0149\n",
      " [0 0 0 1]\t1.0017\t\t0.0149\n",
      " [1 0 0 1]\t-0.0001\t\t0.0149\n",
      " [0 0 0 1]\t1.0017\t\t0.0149\n",
      " [0 0 1 1]\t-0.0001\t\t0.0149\n",
      " [0 0 1 1]\t-0.0001\t\t0.0149\n",
      " [0 1 0 1]\t0.0000\t\t0.0149\n",
      " [1 0 0 1]\t-0.0001\t\t0.0149\n",
      " [0 1 0 1]\t0.0000\t\t0.0149\n",
      " [1 0 0 1]\t-0.0001\t\t0.0149\n",
      " [0 1 0 1]\t0.0000\t\t0.0149\n",
      " [0 1 0 1]\t0.0000\t\t0.0149\n",
      " [1 1 0 1]\t1.0016\t\t0.0149\n",
      " [1 1 1 0]\t1.0015\t\t0.0149\n",
      " [1 0 0 1]\t-0.0001\t\t0.0149\n",
      " [1 0 0 1]\t-0.0001\t\t0.0149\n",
      " [0 0 0 1]\t1.0017\t\t0.0149\n",
      " [0 0 0 1]\t1.0017\t\t0.0149\n",
      " [0 0 0 1]\t1.0017\t\t0.0149\n",
      " [0 0 0 1]\t1.0017\t\t0.0149\n",
      " [0 0 0 1]\t1.0017\t\t0.0149\n",
      " [0 0 0 1]\t1.0017\t\t0.0149\n",
      " [0 1 0 1]\t0.0000\t\t0.0149\n",
      " [1 0 1 1]\t1.0015\t\t0.0149\n",
      " [0 1 0 1]\t0.0000\t\t0.0149\n",
      " [1 1 0 1]\t1.0016\t\t0.0149\n",
      " [1 0 0 1]\t-0.0001\t\t0.0149\n",
      " [0 1 0 1]\t0.0000\t\t0.0149\n",
      " [1 0 0 1]\t-0.0001\t\t0.0149\n",
      " [0 0 1 1]\t-0.0001\t\t0.0149\n",
      " [0 1 0 1]\t0.0000\t\t0.0149\n",
      " [1 0 0 1]\t-0.0001\t\t0.0149\n",
      " [1 0 0 1]\t-0.0001\t\t0.0149\n",
      " [1 1 0 1]\t1.0016\t\t0.0149\n",
      " [0 1 0 1]\t0.0000\t\t0.0149\n",
      " [1 0 1 1]\t1.0015\t\t0.0149\n",
      " [0 0 1 1]\t-0.0001\t\t0.0149\n",
      " [0 1 0 1]\t0.0000\t\t0.0149\n",
      " [0 0 1 1]\t-0.0001\t\t0.0023\n",
      " [0 0 1 1]\t-0.0001\t\t0.0023\n",
      " [0 0 1 1]\t-0.0001\t\t0.0023\n",
      " [1 1 0 0]\t-0.0001\t\t0.0023\n",
      " [0 0 0 1]\t1.0017\t\t0.0023\n",
      " [0 0 0 1]\t1.0017\t\t0.0023\n",
      " [0 0 0 1]\t1.0017\t\t0.0023\n",
      " [0 0 0 1]\t1.0017\t\t0.0023\n",
      " [1 0 0 1]\t-0.0001\t\t0.0023\n",
      " [0 0 0 1]\t1.0017\t\t0.0023\n",
      " [0 0 0 1]\t1.0017\t\t0.0023\n",
      " [0 0 0 1]\t1.0017\t\t0.0023\n",
      " [0 0 1 1]\t-0.0001\t\t0.0023\n",
      " [0 1 0 1]\t0.0000\t\t0.0023\n",
      " [1 0 0 1]\t-0.0001\t\t0.0023\n",
      " [0 1 0 1]\t0.0000\t\t0.0023\n",
      " [1 0 1 0]\t-0.0002\t\t0.0023\n",
      " [0 1 1 0]\t-0.0001\t\t0.0023\n",
      " [1 0 0 1]\t-0.0001\t\t0.0023\n",
      " [0 1 0 1]\t0.0000\t\t0.0023\n",
      " [0 0 0 1]\t1.0017\t\t0.0023\n",
      " [0 0 0 1]\t1.0017\t\t0.0023\n",
      " [1 0 0 1]\t-0.0001\t\t0.0023\n",
      " [0 0 0 1]\t1.0017\t\t0.0023\n",
      " [1 0 0 1]\t-0.0001\t\t0.0023\n",
      " [0 1 0 1]\t0.0000\t\t0.0023\n",
      " [0 0 1 1]\t-0.0001\t\t0.0023\n",
      " [0 1 0 1]\t0.0000\t\t0.0023\n",
      " [0 0 1 0]\t1.0017\t\t0.0011\n",
      " [0 0 0 1]\t1.0017\t\t0.0011\n",
      " [0 0 0 1]\t1.0017\t\t0.0011\n",
      " [0 0 0 1]\t1.0017\t\t0.0011\n",
      " [0 0 0 1]\t1.0017\t\t0.0011\n",
      " [0 0 0 1]\t1.0017\t\t0.0011\n",
      " [1 0 0 0]\t1.0016\t\t0.0011\n",
      " [0 1 0 0]\t1.0018\t\t0.0011\n",
      " [0 0 0 0]\t4.0070\t\t0.0011\n",
      " [1 1 1 1]\t4.0068\t\t0.0009\n",
      " [0 0 1 1]\t-0.0001\t\t0.0009\n",
      " [1 1 1 1]\t4.0068\t\t0.0009\n",
      " [1 0 0 1]\t-0.0001\t\t0.0009\n",
      " [0 0 0 1]\t1.0017\t\t0.0009\n",
      " [1 0 0 1]\t-0.0001\t\t0.0009\n",
      " [0 0 0 1]\t1.0017\t\t0.0009\n",
      " [1 0 0 1]\t-0.0001\t\t0.0009\n",
      " [0 1 0 1]\t0.0000\t\t0.0009\n",
      " [1 0 1 1]\t1.0015\t\t0.0009\n",
      " [1 1 0 1]\t1.0016\t\t0.0009\n",
      " [1 1 1 1]\t4.0068\t\t0.0009\n",
      " [0 1 1 1]\t1.0017\t\t0.0009\n",
      " [1 1 0 1]\t1.0016\t\t0.0009\n",
      " [1 1 0 1]\t1.0016\t\t0.0009\n",
      " [1 1 1 1]\t4.0068\t\t0.0009\n",
      " [0 0 1 1]\t-0.0001\t\t0.0009\n",
      " [0 0 1 1]\t-0.0001\t\t0.0009\n",
      " [0 1 1 1]\t1.0017\t\t0.0009\n",
      " [1 1 0 1]\t1.0016\t\t0.0009\n",
      " [0 1 1 1]\t1.0017\t\t0.0009\n",
      " [1 1 0 1]\t1.0016\t\t0.0009\n",
      " [1 1 0 1]\t1.0016\t\t0.0009\n",
      " [1 1 1 1]\t4.0068\t\t0.0009\n",
      " [0 1 1 1]\t1.0017\t\t0.0009\n",
      " [1 1 0 1]\t1.0016\t\t0.0009\n",
      " [0 1 1 1]\t1.0017\t\t0.0009\n",
      " [1 0 1 1]\t1.0015\t\t0.0009\n",
      " [0 1 1 1]\t1.0017\t\t0.0009\n",
      " [1 0 1 1]\t1.0015\t\t0.0009\n",
      " [0 1 1 1]\t1.0017\t\t0.0009\n",
      " [0 1 1 1]\t1.0017\t\t0.0009\n",
      " [1 0 1 1]\t1.0015\t\t0.0009\n",
      " [1 0 1 1]\t1.0015\t\t0.0009\n",
      " [0 0 1 1]\t-0.0001\t\t0.0009\n",
      " [0 0 1 1]\t-0.0001\t\t0.0009\n",
      " [0 0 1 1]\t-0.0001\t\t0.0009\n",
      " [0 0 1 1]\t-0.0001\t\t0.0009\n",
      " [0 1 1 1]\t1.0017\t\t0.0009\n",
      " [1 0 1 1]\t1.0015\t\t0.0009\n",
      " [1 0 1 1]\t1.0015\t\t0.0009\n",
      " [0 1 1 1]\t1.0017\t\t0.0009\n",
      " [1 0 0 1]\t-0.0001\t\t0.0009\n",
      " [0 1 0 1]\t0.0000\t\t0.0009\n",
      " [0 1 0 1]\t0.0000\t\t0.0009\n",
      " [0 0 1 1]\t-0.0001\t\t0.0009\n",
      " [0 0 0 1]\t1.0017\t\t0.0009\n",
      " [1 0 0 1]\t-0.0001\t\t0.0009\n",
      " [0 0 0 1]\t1.0017\t\t0.0009\n",
      " [0 0 0 1]\t1.0017\t\t0.0009\n",
      " [1 0 0 1]\t-0.0001\t\t0.0009\n",
      " [1 1 0 1]\t1.0016\t\t0.0009\n",
      " [0 1 0 1]\t0.0000\t\t0.0009\n",
      " [1 0 1 1]\t1.0015\t\t0.0009\n",
      " [0 0 1 1]\t-0.0001\t\t0.0009\n",
      " [0 1 0 1]\t0.0000\t\t0.0009\n",
      " [1 0 0 1]\t-0.0001\t\t0.0009\n",
      " [0 1 0 1]\t0.0000\t\t0.0009\n",
      " [0 0 1 1]\t-0.0001\t\t0.0009\n",
      " [1 0 0 1]\t-0.0001\t\t0.0009\n",
      " [0 1 0 1]\t0.0000\t\t0.0009\n",
      " [1 0 0 1]\t-0.0001\t\t0.0009\n",
      " [0 1 0 1]\t0.0000\t\t0.0009\n",
      " [1 0 1 1]\t1.0015\t\t0.0009\n",
      " [1 1 0 1]\t1.0016\t\t0.0009\n",
      " [1 1 0 1]\t1.0016\t\t0.0009\n",
      " [0 1 0 1]\t0.0000\t\t0.0009\n",
      " [1 0 0 1]\t-0.0001\t\t0.0009\n",
      " [1 0 1 1]\t1.0015\t\t0.0009\n",
      " [0 1 0 1]\t0.0000\t\t0.0009\n",
      " [1 1 1 1]\t4.0068\t\t0.0004\n",
      " [1 1 0 1]\t1.0016\t\t0.0004\n",
      " [1 0 1 1]\t1.0015\t\t0.0004\n",
      " [0 1 1 1]\t1.0017\t\t0.0004\n",
      " [1 1 1 1]\t4.0068\t\t0.0004\n",
      " [1 1 1 1]\t4.0068\t\t0.0004\n",
      " [0 0 1 1]\t-0.0001\t\t0.0004\n",
      " [0 0 1 1]\t-0.0001\t\t0.0004\n",
      " [0 0 0 1]\t1.0017\t\t0.0004\n",
      " [1 0 0 1]\t-0.0001\t\t0.0004\n",
      " [1 0 1 1]\t1.0015\t\t0.0004\n",
      " [1 0 0 1]\t-0.0001\t\t0.0004\n",
      " [1 0 0 1]\t-0.0001\t\t0.0004\n",
      " [1 0 1 1]\t1.0015\t\t0.0004\n",
      " [0 1 0 1]\t0.0000\t\t0.0004\n",
      " [1 1 0 1]\t1.0016\t\t0.0004\n",
      " [0 1 0 1]\t0.0000\t\t0.0004\n",
      " [1 1 0 1]\t1.0016\t\t0.0004\n",
      " [1 1 0 1]\t1.0016\t\t0.0004\n",
      " [1 1 1 1]\t4.0068\t\t0.0004\n",
      " [1 1 1 1]\t4.0068\t\t0.0004\n",
      " [1 1 1 1]\t4.0068\t\t0.0004\n",
      " [1 1 1 1]\t4.0068\t\t0.0004\n",
      " [1 1 1 1]\t4.0068\t\t0.0004\n",
      " [0 1 1 1]\t1.0017\t\t0.0004\n",
      " [1 1 1 1]\t4.0068\t\t0.0004\n",
      " [1 1 1 1]\t4.0068\t\t0.0004\n",
      " [1 1 0 1]\t1.0016\t\t0.0004\n",
      " [1 1 0 1]\t1.0016\t\t0.0004\n",
      " [0 1 1 1]\t1.0017\t\t0.0004\n",
      " [1 1 0 1]\t1.0016\t\t0.0004\n",
      " [1 1 0 1]\t1.0016\t\t0.0004\n",
      " [0 0 1 1]\t-0.0001\t\t0.0004\n",
      " [0 0 1 1]\t-0.0001\t\t0.0004\n",
      " [0 1 1 1]\t1.0017\t\t0.0004\n",
      " [1 0 1 1]\t1.0015\t\t0.0004\n",
      " [1 0 1 1]\t1.0015\t\t0.0004\n",
      " [0 1 1 1]\t1.0017\t\t0.0004\n",
      " [1 0 1 1]\t1.0015\t\t0.0004\n",
      " [1 0 1 1]\t1.0015\t\t0.0004\n",
      " [0 1 1 1]\t1.0017\t\t0.0004\n",
      " [0 1 1 1]\t1.0017\t\t0.0004\n",
      " [1 0 1 1]\t1.0015\t\t0.0004\n",
      " [0 1 1 1]\t1.0017\t\t0.0004\n",
      " [0 1 1 1]\t1.0017\t\t0.0004\n",
      " [1 1 0 1]\t1.0016\t\t0.0004\n",
      " [0 1 1 1]\t1.0017\t\t0.0004\n",
      " [1 0 1 1]\t1.0015\t\t0.0004\n",
      " [0 0 1 1]\t-0.0001\t\t0.0004\n",
      " [0 1 0 1]\t0.0000\t\t0.0004\n",
      " [1 1 0 1]\t1.0016\t\t0.0004\n",
      " [1 0 0 1]\t-0.0001\t\t0.0004\n",
      " [1 0 0 1]\t-0.0001\t\t0.0004\n",
      " [1 0 1 1]\t1.0015\t\t0.0004\n",
      " [0 1 0 1]\t0.0000\t\t0.0004\n",
      " [0 1 0 1]\t0.0000\t\t0.0004\n",
      " [1 1 1 1]\t4.0068\t\t0.0002\n",
      " [1 1 1 1]\t4.0068\t\t0.0001\n",
      " [1 0 1 1]\t1.0015\t\t0.0001\n",
      " [0 1 1 1]\t1.0017\t\t0.0001\n",
      " [1 0 1 1]\t1.0015\t\t0.0001\n",
      " [0 1 1 1]\t1.0017\t\t0.0001\n",
      " [1 1 1 1]\t4.0068\t\t0.0001\n",
      " [0 1 1 1]\t1.0017\t\t0.0001\n",
      " [1 1 0 1]\t1.0016\t\t0.0001\n",
      " [1 1 0 1]\t1.0016\t\t0.0001\n",
      " [1 1 1 1]\t4.0068\t\t0.0001\n",
      " [1 1 1 1]\t4.0068\t\t0.0001\n",
      " [1 1 1 1]\t4.0068\t\t0.0001\n",
      " [1 1 1 1]\t4.0068\t\t0.0001\n",
      " [1 1 0 1]\t1.0016\t\t0.0001\n",
      " [1 0 0 1]\t-0.0001\t\t0.0001\n",
      " [1 0 1 1]\t1.0015\t\t0.0001\n",
      " [0 1 0 1]\t0.0000\t\t0.0001\n",
      " [0 0 1 1]\t-0.0001\t\t0.0001\n",
      " [1 1 1 1]\t4.0068\t\t0.0001\n",
      " [0 1 1 1]\t1.0017\t\t0.0001\n",
      " [0 1 1 1]\t1.0017\t\t0.0001\n",
      " [1 0 1 1]\t1.0015\t\t0.0001\n",
      " [1 0 1 1]\t1.0015\t\t0.0001\n",
      " [1 1 1 1]\t4.0068\t\t0.0001\n",
      " [1 1 0 1]\t1.0016\t\t0.0001\n",
      " [1 1 1 1]\t4.0068\t\t0.0001\n",
      " [1 1 0 1]\t1.0016\t\t0.0001\n",
      " [1 1 1 1]\t4.0068\t\t0.0001\n",
      " [1 1 1 1]\t4.0068\t\t0.0001\n",
      " [1 1 1 1]\t4.0068\t\t0.0001\n",
      " [1 1 0 1]\t1.0016\t\t0.0001\n",
      " [1 1 1 1]\t4.0068\t\t0.0001\n",
      " [1 0 1 1]\t1.0015\t\t0.0001\n",
      " [0 1 1 1]\t1.0017\t\t0.0001\n",
      " [1 1 1 1]\t4.0068\t\t0.0001\n",
      " [1 1 1 1]\t4.0068\t\t0.0001\n"
     ]
    }
   ],
   "source": [
    "# Step 6. Now let's use QAOA to solve this problem. \n",
    "\n",
    "optimizer = SLSQP(maxiter=1000)  \n",
    "algorithm_globals.random_seed = 1234\n",
    "backend = Aer.get_backend('statevector_simulator')\n",
    "\n",
    "##############################\n",
    "# Provide your code here \n",
    "\n",
    "quantum_instance2 = QuantumInstance(backend=backend, seed_simulator=seed, seed_transpiler=seed)\n",
    "qaoa = QAOA(optimizer=optimizer, reps=3, quantum_instance=quantum_instance2)\n",
    "\n",
    "def index_to_selection(i, num_assets):\n",
    "    s = \"{0:b}\".format(i).rjust(num_assets)\n",
    "    x = np.array([1 if s[i]=='1' else 0 for i in reversed(range(num_assets))])\n",
    "    return x\n",
    "\n",
    "def print_result(result):\n",
    "    selection = result.x\n",
    "    value = result.fval\n",
    "    print('Optimal: selection {}, value {:.4f}'.format(selection, value))\n",
    "\n",
    "    eigenstate = result.min_eigen_solver_result.eigenstate\n",
    "    eigenvector = eigenstate if isinstance(eigenstate, np.ndarray) else eigenstate.to_matrix()\n",
    "    probabilities = np.abs(eigenvector)**2\n",
    "    i_sorted = reversed(np.argsort(probabilities))\n",
    "    print('\\n----------------- Full result ---------------------')\n",
    "    print('selection\\tvalue\\t\\tprobability')\n",
    "    print('---------------------------------------------------')\n",
    "    for i in i_sorted:\n",
    "        x = index_to_selection(i, num_assets)\n",
    "        value = QuadraticProgramToQubo().convert(qp).objective.evaluate(x)\n",
    "        #value = portfolio.to_quadratic_program().objective.evaluate(x)\n",
    "        probability = probabilities[i]\n",
    "        print('%10s\\t%.4f\\t\\t%.4f' %(x, value, probability))\n",
    "\n",
    "##############################\n",
    "\n",
    "qaoa_meo = MinimumEigenOptimizer(qaoa) #please do not change this code\n",
    "\n",
    "result2 = qaoa_meo.solve(qp2)  #please do not change this code\n",
    "\n",
    "print_result(result2)\n",
    "# print(result2) #please do not change this code"
   ]
  },
  {
   "cell_type": "markdown",
   "metadata": {},
   "source": [
    "注：QAOAの実行には最大で数分かかることがあります。"
   ]
  },
  {
   "cell_type": "markdown",
   "metadata": {},
   "source": [
    "# 回答を提出する"
   ]
  },
  {
   "cell_type": "code",
   "execution_count": 61,
   "metadata": {},
   "outputs": [
    {
     "name": "stdout",
     "output_type": "stream",
     "text": [
      "Submitting your answer for 1c. Please wait...\n",
      "Congratulations 🎉! Your answer is correct and has been submitted.\n"
     ]
    }
   ],
   "source": [
    "# 答えを確認して以下のコードで提出します\n",
    "from qc_grader import grade_ex1c\n",
    "grade_ex1c(qaoa, qp2)"
   ]
  },
  {
   "cell_type": "markdown",
   "metadata": {},
   "source": [
    "### 更に学びたい方へ:\n",
    "入門レベルの最初のチャレンジを無事に解いた皆さん、**おめでとうございます！** <br>\n",
    "ポートフォリオ最適化について、またQiskitのFinanceモジュールを使った演習を解く方法について学ぶことができたのではないでしょうか。<br>今回登場した変分量子アルゴリズムをつかった最適化問題について更に深く学びたい方は以下の文献をご覧ください。\n",
    "<br>\n",
    "1. [**Quantum optimization using variational algorithms on near-term quantum devices. Moll et al. 2017**](https://arxiv.org/abs/1710.01022)<br>\n",
    "2. [**Improving Variational Quantum Optimization using CVaR. Barkoutsos et al. 2019.**](https://arxiv.org/abs/1907.04769)<br>"
   ]
  },
  {
   "cell_type": "markdown",
   "metadata": {
    "tags": []
   },
   "source": [
    "### Good luck and have fun with the challenge!"
   ]
  },
  {
   "cell_type": "markdown",
   "metadata": {},
   "source": [
    "## Additional information\n",
    "\n",
    "**Created by:** Yuri Kobayashi\n",
    "\n",
    "**Version:** 1.0.1"
   ]
  }
 ],
 "metadata": {
  "kernelspec": {
   "display_name": "Qiskit v0.31.0 (ipykernel)",
   "language": "python",
   "name": "python3"
  },
  "language_info": {
   "codemirror_mode": {
    "name": "ipython",
    "version": 3
   },
   "file_extension": ".py",
   "mimetype": "text/x-python",
   "name": "python",
   "nbconvert_exporter": "python",
   "pygments_lexer": "ipython3",
   "version": "3.8.10"
  },
  "varInspector": {
   "cols": {
    "lenName": 16,
    "lenType": 16,
    "lenVar": 40
   },
   "kernels_config": {
    "python": {
     "delete_cmd_postfix": "",
     "delete_cmd_prefix": "del ",
     "library": "var_list.py",
     "varRefreshCmd": "print(var_dic_list())"
    },
    "r": {
     "delete_cmd_postfix": ") ",
     "delete_cmd_prefix": "rm(",
     "library": "var_list.r",
     "varRefreshCmd": "cat(var_dic_list()) "
    }
   },
   "types_to_exclude": [
    "module",
    "function",
    "builtin_function_or_method",
    "instance",
    "_Feature"
   ],
   "window_display": false
  },
  "widgets": {
   "application/vnd.jupyter.widget-state+json": {
    "state": {},
    "version_major": 2,
    "version_minor": 0
   }
  }
 },
 "nbformat": 4,
 "nbformat_minor": 4
}
